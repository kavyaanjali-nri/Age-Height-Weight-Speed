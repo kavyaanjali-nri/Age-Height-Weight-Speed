{
  "metadata": {
    "kernelspec": {
      "language": "python",
      "display_name": "Python 3",
      "name": "python3"
    },
    "language_info": {
      "name": "python",
      "version": "3.7.12",
      "mimetype": "text/x-python",
      "codemirror_mode": {
        "name": "ipython",
        "version": 3
      },
      "pygments_lexer": "ipython3",
      "nbconvert_exporter": "python",
      "file_extension": ".py"
    },
    "kaggle": {
      "accelerator": "none",
      "dataSources": [
        {
          "sourceId": 5149556,
          "sourceType": "datasetVersion",
          "datasetId": 2969333
        }
      ],
      "dockerImageVersionId": 30458,
      "isInternetEnabled": true,
      "language": "python",
      "sourceType": "notebook",
      "isGpuEnabled": false
    },
    "colab": {
      "name": "9 Student Performance Prediction 6de58c",
      "provenance": [],
      "include_colab_link": true
    }
  },
  "nbformat_minor": 0,
  "nbformat": 4,
  "cells": [
    {
      "cell_type": "markdown",
      "metadata": {
        "id": "view-in-github",
        "colab_type": "text"
      },
      "source": [
        "<a href=\"https://colab.research.google.com/github/kavyaanjali-nri/Age-Height-Weight-Speed/blob/main/9_Student_Performance_Prediction_6de58c.ipynb\" target=\"_parent\"><img src=\"https://colab.research.google.com/assets/colab-badge.svg\" alt=\"Open In Colab\"/></a>"
      ]
    },
    {
      "source": [
        "# IMPORTANT: RUN THIS CELL IN ORDER TO IMPORT YOUR KAGGLE DATA SOURCES,\n",
        "# THEN FEEL FREE TO DELETE THIS CELL.\n",
        "# NOTE: THIS NOTEBOOK ENVIRONMENT DIFFERS FROM KAGGLE'S PYTHON\n",
        "# ENVIRONMENT SO THERE MAY BE MISSING LIBRARIES USED BY YOUR\n",
        "# NOTEBOOK.\n",
        "import kagglehub\n",
        "rkiattisak_student_performance_in_mathematics_path = kagglehub.dataset_download('rkiattisak/student-performance-in-mathematics')\n",
        "\n",
        "print('Data source import complete.')\n"
      ],
      "metadata": {
        "id": "azjrMCB8Gkfv"
      },
      "cell_type": "code",
      "outputs": [],
      "execution_count": null
    },
    {
      "cell_type": "markdown",
      "source": [
        "# Student Performance Prediction"
      ],
      "metadata": {
        "id": "Ardp_u8ZGkf0"
      }
    },
    {
      "cell_type": "markdown",
      "source": [
        "This dataset focuses on predicting student performance based on various academic and demographic factors. The goal is to develop a predictive model that can help identify students who may be at risk of underperforming and provide targeted interventions or support to improve their educational outcomes.\n",
        "\n",
        "**gender:** Student's gender. <br>\n",
        "**race/ethnicity:** Student's race or ethnicity.<br>\n",
        "**parental level of education:** Highest level of education attained by student's parents/guardians.<br>\n",
        "**lunch:** Student's eligibility for free/reduced-price lunch (indicator of socioeconomic status).<br>\n",
        "**test preparation course:** Whether the student took a test preparation course.<br>\n",
        "**math score:** Student's score on a math assessment.<br>\n",
        "**reading score:** Student's score on a reading assessment.<br>\n",
        "**writing score:** Student's score on a writing assessment.<br>"
      ],
      "metadata": {
        "id": "KG5rHOuuGkf1"
      }
    },
    {
      "cell_type": "markdown",
      "source": [
        "![](https://blog.kinems.com/content/images/2018/04/Tracking_Headline.png)"
      ],
      "metadata": {
        "id": "178El0W4Gkf2"
      }
    },
    {
      "cell_type": "code",
      "source": [],
      "metadata": {
        "id": "FZXO0zUHGkf3"
      },
      "outputs": [],
      "execution_count": null
    },
    {
      "cell_type": "code",
      "source": [],
      "metadata": {
        "id": "OXM2XWEaG1_z"
      },
      "execution_count": null,
      "outputs": []
    },
    {
      "cell_type": "code",
      "source": [
        "## This Python 3 environment comes with many helpful analytics libraries installed\n",
        "# It is defined by the kaggle/python Docker image: https://github.com/kaggle/docker-python\n",
        "# For example, here's several helpful packages to load\n",
        "\n",
        "import numpy as np # linear algebra\n",
        "import pandas as pd # data processing, CSV file I/O (e.g. pd.read_csv)\n",
        "\n",
        "# Input data files are available in the read-only \"../input/\" directory\n",
        "# For example, running this (by clicking run or pressing Shift+Enter) will list all files under the input directory\n",
        "\n",
        "import os\n",
        "for dirname, _, filenames in os.walk('/kaggle/input'):\n",
        "    for filename in filenames:\n",
        "        print(os.path.join(dirname, filename))\n",
        "\n",
        "# You can write up to 20GB to the current directory (/kaggle/working/) that gets preserved as output when you create a version using \"Save & Run All\"\n",
        "# You can also write temporary files to /kaggle/temp/, but they won't be saved outside of the current session"
      ],
      "metadata": {
        "_uuid": "8f2839f25d086af736a60e9eeb907d3b93b6e0e5",
        "_cell_guid": "b1076dfc-b9ad-4769-8c92-a6c4dae69d19",
        "execution": {
          "iopub.status.busy": "2024-06-26T14:58:21.569173Z",
          "iopub.execute_input": "2024-06-26T14:58:21.569945Z",
          "iopub.status.idle": "2024-06-26T14:58:21.58307Z",
          "shell.execute_reply.started": "2024-06-26T14:58:21.569887Z",
          "shell.execute_reply": "2024-06-26T14:58:21.581418Z"
        },
        "trusted": true,
        "id": "k_3m_T_-Gkf3"
      },
      "outputs": [],
      "execution_count": null
    },
    {
      "cell_type": "markdown",
      "source": [],
      "metadata": {
        "id": "VNow9vdRGkf4"
      }
    },
    {
      "cell_type": "code",
      "source": [
        "import pandas as pd\n",
        "import os\n",
        "for dirname, _, filenames in os.walk('/kaggle/input/student-performance-in-mathematics/exams.csv'):\n",
        "    for filename in filenames:\n",
        "        print(os.path.join(dirname, filename))"
      ],
      "metadata": {
        "execution": {
          "iopub.status.busy": "2024-06-26T14:58:25.28497Z",
          "iopub.execute_input": "2024-06-26T14:58:25.285421Z",
          "iopub.status.idle": "2024-06-26T14:58:25.291873Z",
          "shell.execute_reply.started": "2024-06-26T14:58:25.28538Z",
          "shell.execute_reply": "2024-06-26T14:58:25.290581Z"
        },
        "trusted": true,
        "id": "c8OmErxOGkf4"
      },
      "outputs": [],
      "execution_count": null
    },
    {
      "cell_type": "markdown",
      "source": [],
      "metadata": {
        "id": "zf2fmPDEGkf4"
      }
    },
    {
      "cell_type": "code",
      "source": [
        "#importing the dataset\n",
        "df=pd.read_csv('/kaggle/input/student-performance-in-mathematics/exams.csv')"
      ],
      "metadata": {
        "execution": {
          "iopub.status.busy": "2024-06-26T15:05:57.964509Z",
          "iopub.execute_input": "2024-06-26T15:05:57.965077Z",
          "iopub.status.idle": "2024-06-26T15:05:57.990359Z",
          "shell.execute_reply.started": "2024-06-26T15:05:57.965034Z",
          "shell.execute_reply": "2024-06-26T15:05:57.98939Z"
        },
        "trusted": true,
        "id": "WKnXvFnNGkf5"
      },
      "outputs": [],
      "execution_count": null
    },
    {
      "cell_type": "code",
      "source": [
        "#showing the dataset\n",
        "df.head()"
      ],
      "metadata": {
        "execution": {
          "iopub.status.busy": "2024-06-26T15:08:38.40498Z",
          "iopub.execute_input": "2024-06-26T15:08:38.405996Z",
          "iopub.status.idle": "2024-06-26T15:08:38.419503Z",
          "shell.execute_reply.started": "2024-06-26T15:08:38.405951Z",
          "shell.execute_reply": "2024-06-26T15:08:38.418437Z"
        },
        "trusted": true,
        "id": "R4fI_HcnGkf5"
      },
      "outputs": [],
      "execution_count": null
    },
    {
      "cell_type": "code",
      "source": [
        "\n",
        "#cehcking the shape\n",
        "df.shape"
      ],
      "metadata": {
        "execution": {
          "iopub.status.busy": "2024-06-26T15:08:49.852757Z",
          "iopub.execute_input": "2024-06-26T15:08:49.85387Z",
          "iopub.status.idle": "2024-06-26T15:08:49.860757Z",
          "shell.execute_reply.started": "2024-06-26T15:08:49.853799Z",
          "shell.execute_reply": "2024-06-26T15:08:49.859389Z"
        },
        "trusted": true,
        "id": "qQxyyfKBGkf5"
      },
      "outputs": [],
      "execution_count": null
    },
    {
      "cell_type": "code",
      "source": [
        "df.isnull().sum() # it seems there is no empty cell."
      ],
      "metadata": {
        "execution": {
          "iopub.status.busy": "2024-06-26T15:08:59.411791Z",
          "iopub.execute_input": "2024-06-26T15:08:59.412768Z",
          "iopub.status.idle": "2024-06-26T15:08:59.422094Z",
          "shell.execute_reply.started": "2024-06-26T15:08:59.412726Z",
          "shell.execute_reply": "2024-06-26T15:08:59.421015Z"
        },
        "trusted": true,
        "id": "MJuiU-6wGkf6"
      },
      "outputs": [],
      "execution_count": null
    },
    {
      "cell_type": "code",
      "source": [
        "df.tail()"
      ],
      "metadata": {
        "execution": {
          "iopub.status.busy": "2023-06-17T23:05:18.130703Z",
          "iopub.execute_input": "2023-06-17T23:05:18.131931Z",
          "iopub.status.idle": "2023-06-17T23:05:18.149164Z",
          "shell.execute_reply.started": "2023-06-17T23:05:18.131873Z",
          "shell.execute_reply": "2023-06-17T23:05:18.147522Z"
        },
        "jupyter": {
          "source_hidden": true
        },
        "trusted": true,
        "id": "0dXhKmpYGkf6"
      },
      "outputs": [],
      "execution_count": null
    },
    {
      "cell_type": "code",
      "source": [
        "df.describe()"
      ],
      "metadata": {
        "execution": {
          "iopub.status.busy": "2024-06-26T15:09:02.454662Z",
          "iopub.execute_input": "2024-06-26T15:09:02.455665Z",
          "iopub.status.idle": "2024-06-26T15:09:02.486546Z",
          "shell.execute_reply.started": "2024-06-26T15:09:02.455623Z",
          "shell.execute_reply": "2024-06-26T15:09:02.485351Z"
        },
        "trusted": true,
        "id": "bKRF9m4OGkf6"
      },
      "outputs": [],
      "execution_count": null
    },
    {
      "cell_type": "code",
      "source": [
        "import matplotlib.pyplot as plt\n",
        "import seaborn as sns\n",
        "\n",
        "sns.heatmap(df.corr(),annot=True)\n",
        "plt.show()\n"
      ],
      "metadata": {
        "execution": {
          "iopub.status.busy": "2024-06-26T15:09:55.132432Z",
          "iopub.execute_input": "2024-06-26T15:09:55.132845Z",
          "iopub.status.idle": "2024-06-26T15:09:55.458189Z",
          "shell.execute_reply.started": "2024-06-26T15:09:55.132794Z",
          "shell.execute_reply": "2024-06-26T15:09:55.45702Z"
        },
        "trusted": true,
        "id": "5jkfCl_MGkf7"
      },
      "outputs": [],
      "execution_count": null
    },
    {
      "cell_type": "code",
      "source": [
        "# 1. Histogram Plots\n",
        "plt.figure(figsize=(12, 4))\n",
        "plt.subplot(1, 3, 1)\n",
        "sns.histplot(df['math score'], bins=10)\n",
        "plt.title('Math Score Distribution')\n",
        "\n",
        "plt.subplot(1, 3, 2)\n",
        "sns.histplot(df['reading score'], bins=10)\n",
        "plt.title('Reading Score Distribution')\n",
        "\n",
        "plt.subplot(1, 3, 3)\n",
        "sns.histplot(df['writing score'], bins=10)\n",
        "plt.title('Writing Score Distribution')\n",
        "plt.tight_layout()\n",
        "\n",
        "# 2. Bar Charts\n",
        "plt.figure(figsize=(12, 4))\n",
        "plt.subplot(1, 5, 1)\n",
        "df['gender'].value_counts().plot(kind='bar')\n",
        "plt.title('Gender Frequency')\n",
        "\n",
        "plt.subplot(1, 5, 2)\n",
        "df['race/ethnicity'].value_counts().plot(kind='bar')\n",
        "plt.title('Race/Ethnicity Frequency')\n",
        "\n",
        "plt.subplot(1, 5, 3)\n",
        "df['parental level of education'].value_counts().plot(kind='bar')\n",
        "plt.title('Parental Education Frequency')\n",
        "\n",
        "plt.subplot(1, 5, 4)\n",
        "df['lunch'].value_counts().plot(kind='bar')\n",
        "plt.title('Lunch Type Frequency')\n",
        "\n",
        "plt.subplot(1, 5, 5)\n",
        "df['test preparation course'].value_counts().plot(kind='bar')\n",
        "plt.title('Test Prep Course Frequency')\n",
        "plt.tight_layout()\n",
        "\n",
        "# 3. Box Plots\n",
        "plt.figure(figsize=(12, 4))\n",
        "plt.subplot(1, 3, 1)\n",
        "sns.boxplot(x='gender', y='math score', data=df)\n",
        "plt.title('Math Score by Gender')\n",
        "\n",
        "plt.subplot(1, 3, 2)\n",
        "sns.boxplot(x='race/ethnicity', y='reading score', data=df)\n",
        "plt.title('Reading Score by Race/Ethnicity')\n",
        "\n",
        "plt.subplot(1, 3, 3)\n",
        "sns.boxplot(x='parental level of education', y='writing score', data=df)\n",
        "plt.title('Writing Score by Parental Education')\n",
        "plt.tight_layout()"
      ],
      "metadata": {
        "execution": {
          "iopub.status.busy": "2024-06-26T15:13:31.28559Z",
          "iopub.execute_input": "2024-06-26T15:13:31.286166Z",
          "iopub.status.idle": "2024-06-26T15:13:33.526071Z",
          "shell.execute_reply.started": "2024-06-26T15:13:31.286121Z",
          "shell.execute_reply": "2024-06-26T15:13:33.524887Z"
        },
        "trusted": true,
        "id": "7BUkiUFgGkf7"
      },
      "outputs": [],
      "execution_count": null
    },
    {
      "cell_type": "code",
      "source": [],
      "metadata": {
        "id": "zhiCu6jbGkf7"
      },
      "outputs": [],
      "execution_count": null
    },
    {
      "cell_type": "code",
      "source": [],
      "metadata": {
        "id": "scBPwPe4Gkf8"
      },
      "outputs": [],
      "execution_count": null
    },
    {
      "cell_type": "code",
      "source": [],
      "metadata": {
        "id": "lloMg56AGkf8"
      },
      "outputs": [],
      "execution_count": null
    },
    {
      "cell_type": "code",
      "source": [],
      "metadata": {
        "id": "F7tNTlpwGkf8"
      },
      "outputs": [],
      "execution_count": null
    },
    {
      "cell_type": "code",
      "source": [],
      "metadata": {
        "id": "bu8Ll7pkGkf8"
      },
      "outputs": [],
      "execution_count": null
    },
    {
      "cell_type": "code",
      "source": [
        "#i want to add an avarage score columns.\n",
        "df['avarage score']=df[['math score','reading score','writing score']].mean(axis=1)"
      ],
      "metadata": {
        "execution": {
          "iopub.status.busy": "2024-06-26T15:09:06.00049Z",
          "iopub.execute_input": "2024-06-26T15:09:06.001343Z",
          "iopub.status.idle": "2024-06-26T15:09:06.008687Z",
          "shell.execute_reply.started": "2024-06-26T15:09:06.001301Z",
          "shell.execute_reply": "2024-06-26T15:09:06.007423Z"
        },
        "trusted": true,
        "id": "xYJ_cm3lGkf8"
      },
      "outputs": [],
      "execution_count": null
    },
    {
      "cell_type": "code",
      "source": [
        "#describe the dataset\n",
        "df.describe()"
      ],
      "metadata": {
        "execution": {
          "iopub.status.busy": "2024-06-26T15:10:43.112844Z",
          "iopub.execute_input": "2024-06-26T15:10:43.113287Z",
          "iopub.status.idle": "2024-06-26T15:10:43.139763Z",
          "shell.execute_reply.started": "2024-06-26T15:10:43.113248Z",
          "shell.execute_reply": "2024-06-26T15:10:43.138542Z"
        },
        "trusted": true,
        "id": "HxLXKT3lGkf9"
      },
      "outputs": [],
      "execution_count": null
    },
    {
      "cell_type": "code",
      "source": [
        "df.info()"
      ],
      "metadata": {
        "execution": {
          "iopub.status.busy": "2024-06-26T15:10:43.415766Z",
          "iopub.execute_input": "2024-06-26T15:10:43.416921Z",
          "iopub.status.idle": "2024-06-26T15:10:43.430478Z",
          "shell.execute_reply.started": "2024-06-26T15:10:43.41687Z",
          "shell.execute_reply": "2024-06-26T15:10:43.429281Z"
        },
        "trusted": true,
        "id": "lUXLIHrxGkf9"
      },
      "outputs": [],
      "execution_count": null
    },
    {
      "cell_type": "markdown",
      "source": [
        "To perform regression analysis, **it is necessary to convert categorical variables into numerical ones.** Let's begin by separating the categorical and numerical variables in the dataset.\n"
      ],
      "metadata": {
        "id": "8cGm9T0SGkf9"
      }
    },
    {
      "cell_type": "code",
      "source": [
        "categorical=df.drop(['math score','reading score', 'writing score','avarage score'], axis=1)\n",
        "numerical=df[['math score','reading score', 'writing score','avarage score']]"
      ],
      "metadata": {
        "execution": {
          "iopub.status.busy": "2024-06-26T15:10:44.58031Z",
          "iopub.execute_input": "2024-06-26T15:10:44.581296Z",
          "iopub.status.idle": "2024-06-26T15:10:44.588165Z",
          "shell.execute_reply.started": "2024-06-26T15:10:44.581253Z",
          "shell.execute_reply": "2024-06-26T15:10:44.586883Z"
        },
        "trusted": true,
        "id": "oCHV_kRgGkf9"
      },
      "outputs": [],
      "execution_count": null
    },
    {
      "cell_type": "code",
      "source": [
        "categorical"
      ],
      "metadata": {
        "execution": {
          "iopub.status.busy": "2024-06-26T15:10:45.546934Z",
          "iopub.execute_input": "2024-06-26T15:10:45.54773Z",
          "iopub.status.idle": "2024-06-26T15:10:45.563468Z",
          "shell.execute_reply.started": "2024-06-26T15:10:45.547685Z",
          "shell.execute_reply": "2024-06-26T15:10:45.562196Z"
        },
        "trusted": true,
        "id": "SfjamRB0Gkf9"
      },
      "outputs": [],
      "execution_count": null
    },
    {
      "cell_type": "code",
      "source": [
        "numerical"
      ],
      "metadata": {
        "execution": {
          "iopub.status.busy": "2024-06-26T15:10:46.315319Z",
          "iopub.execute_input": "2024-06-26T15:10:46.316195Z",
          "iopub.status.idle": "2024-06-26T15:10:46.3303Z",
          "shell.execute_reply.started": "2024-06-26T15:10:46.316148Z",
          "shell.execute_reply": "2024-06-26T15:10:46.329019Z"
        },
        "trusted": true,
        "id": "hs0MmSuYGkf9"
      },
      "outputs": [],
      "execution_count": null
    },
    {
      "cell_type": "code",
      "source": [
        "df1= categorical.apply(lambda x: pd.factorize(x)[0])\n"
      ],
      "metadata": {
        "execution": {
          "iopub.status.busy": "2024-06-26T15:10:46.74776Z",
          "iopub.execute_input": "2024-06-26T15:10:46.748206Z",
          "iopub.status.idle": "2024-06-26T15:10:46.756971Z",
          "shell.execute_reply.started": "2024-06-26T15:10:46.748165Z",
          "shell.execute_reply": "2024-06-26T15:10:46.755769Z"
        },
        "trusted": true,
        "id": "HuH7CLbGGkf-"
      },
      "outputs": [],
      "execution_count": null
    },
    {
      "cell_type": "code",
      "source": [
        "df1"
      ],
      "metadata": {
        "execution": {
          "iopub.status.busy": "2024-06-26T15:10:47.69688Z",
          "iopub.execute_input": "2024-06-26T15:10:47.697877Z",
          "iopub.status.idle": "2024-06-26T15:10:47.711167Z",
          "shell.execute_reply.started": "2024-06-26T15:10:47.697834Z",
          "shell.execute_reply": "2024-06-26T15:10:47.709782Z"
        },
        "trusted": true,
        "id": "ZWykWCTQGkf-"
      },
      "outputs": [],
      "execution_count": null
    },
    {
      "cell_type": "code",
      "source": [
        "data=pd.concat([df1,numerical],axis=1,ignore_index=True)"
      ],
      "metadata": {
        "execution": {
          "iopub.status.busy": "2024-06-26T15:10:47.980772Z",
          "iopub.execute_input": "2024-06-26T15:10:47.981283Z",
          "iopub.status.idle": "2024-06-26T15:10:47.987592Z",
          "shell.execute_reply.started": "2024-06-26T15:10:47.981236Z",
          "shell.execute_reply": "2024-06-26T15:10:47.986221Z"
        },
        "trusted": true,
        "id": "ysaHYOz_Gkf-"
      },
      "outputs": [],
      "execution_count": null
    },
    {
      "cell_type": "code",
      "source": [
        "data"
      ],
      "metadata": {
        "execution": {
          "iopub.status.busy": "2024-06-26T15:10:48.744878Z",
          "iopub.execute_input": "2024-06-26T15:10:48.746023Z",
          "iopub.status.idle": "2024-06-26T15:10:48.762536Z",
          "shell.execute_reply.started": "2024-06-26T15:10:48.745975Z",
          "shell.execute_reply": "2024-06-26T15:10:48.761147Z"
        },
        "trusted": true,
        "id": "9t_nT01lGkf-"
      },
      "outputs": [],
      "execution_count": null
    },
    {
      "cell_type": "code",
      "source": [
        "new_columns_name={0:'gender',1:'race',2:'parent education',3:'lunch',4:'preparetion tests',5:'math',6:'reading',7:'writing',8:'avarage'}\n",
        "data=data.rename(columns=new_columns_name)"
      ],
      "metadata": {
        "execution": {
          "iopub.status.busy": "2024-06-26T15:10:49.159591Z",
          "iopub.execute_input": "2024-06-26T15:10:49.160764Z",
          "iopub.status.idle": "2024-06-26T15:10:49.168385Z",
          "shell.execute_reply.started": "2024-06-26T15:10:49.160704Z",
          "shell.execute_reply": "2024-06-26T15:10:49.167223Z"
        },
        "trusted": true,
        "id": "wOCg09YGGkf-"
      },
      "outputs": [],
      "execution_count": null
    },
    {
      "cell_type": "code",
      "source": [
        "data\n"
      ],
      "metadata": {
        "execution": {
          "iopub.status.busy": "2024-06-26T15:10:49.962069Z",
          "iopub.execute_input": "2024-06-26T15:10:49.963148Z",
          "iopub.status.idle": "2024-06-26T15:10:49.979333Z",
          "shell.execute_reply.started": "2024-06-26T15:10:49.963096Z",
          "shell.execute_reply": "2024-06-26T15:10:49.978031Z"
        },
        "trusted": true,
        "id": "gSJjskv2Gkf-"
      },
      "outputs": [],
      "execution_count": null
    },
    {
      "cell_type": "code",
      "source": [],
      "metadata": {
        "id": "_JlT1k0xGkf_"
      },
      "outputs": [],
      "execution_count": null
    },
    {
      "cell_type": "code",
      "source": [
        "x=data.drop(['avarage'],axis=1)\n",
        "y=data['avarage']"
      ],
      "metadata": {
        "execution": {
          "iopub.status.busy": "2024-06-26T15:10:51.289873Z",
          "iopub.execute_input": "2024-06-26T15:10:51.290864Z",
          "iopub.status.idle": "2024-06-26T15:10:51.296702Z",
          "shell.execute_reply.started": "2024-06-26T15:10:51.290802Z",
          "shell.execute_reply": "2024-06-26T15:10:51.295512Z"
        },
        "trusted": true,
        "id": "9v4F9yn8Gkf_"
      },
      "outputs": [],
      "execution_count": null
    },
    {
      "cell_type": "code",
      "source": [
        "from sklearn.model_selection import train_test_split\n",
        "from sklearn.linear_model import LinearRegression\n",
        "from sklearn.metrics import mean_squared_error,r2_score\n"
      ],
      "metadata": {
        "execution": {
          "iopub.status.busy": "2024-06-26T15:10:51.839588Z",
          "iopub.execute_input": "2024-06-26T15:10:51.840376Z",
          "iopub.status.idle": "2024-06-26T15:10:52.04524Z",
          "shell.execute_reply.started": "2024-06-26T15:10:51.840327Z",
          "shell.execute_reply": "2024-06-26T15:10:52.044116Z"
        },
        "trusted": true,
        "id": "vGVC802tGkf_"
      },
      "outputs": [],
      "execution_count": null
    },
    {
      "cell_type": "code",
      "source": [
        "x_train, x_test, y_train, y_test = train_test_split(x, y, test_size=0.2, random_state=42)\n"
      ],
      "metadata": {
        "execution": {
          "iopub.status.busy": "2024-06-26T15:10:53.206591Z",
          "iopub.execute_input": "2024-06-26T15:10:53.207412Z",
          "iopub.status.idle": "2024-06-26T15:10:53.215432Z",
          "shell.execute_reply.started": "2024-06-26T15:10:53.207363Z",
          "shell.execute_reply": "2024-06-26T15:10:53.213867Z"
        },
        "trusted": true,
        "id": "jo8F_4iJGkf_"
      },
      "outputs": [],
      "execution_count": null
    },
    {
      "cell_type": "code",
      "source": [
        "lr= LinearRegression()\n",
        "model=lr.fit(x_train, y_train)"
      ],
      "metadata": {
        "execution": {
          "iopub.status.busy": "2024-06-26T15:10:53.774538Z",
          "iopub.execute_input": "2024-06-26T15:10:53.775735Z",
          "iopub.status.idle": "2024-06-26T15:10:53.789881Z",
          "shell.execute_reply.started": "2024-06-26T15:10:53.775685Z",
          "shell.execute_reply": "2024-06-26T15:10:53.788476Z"
        },
        "trusted": true,
        "id": "bXKD4KjyGkgF"
      },
      "outputs": [],
      "execution_count": null
    },
    {
      "cell_type": "code",
      "source": [
        "predict = model.predict(x_test)\n"
      ],
      "metadata": {
        "execution": {
          "iopub.status.busy": "2024-06-26T15:10:54.053455Z",
          "iopub.execute_input": "2024-06-26T15:10:54.054074Z",
          "iopub.status.idle": "2024-06-26T15:10:54.061587Z",
          "shell.execute_reply.started": "2024-06-26T15:10:54.054022Z",
          "shell.execute_reply": "2024-06-26T15:10:54.060256Z"
        },
        "trusted": true,
        "id": "2-djDwVKGkgF"
      },
      "outputs": [],
      "execution_count": null
    },
    {
      "cell_type": "code",
      "source": [
        "(mean_squared_error(predict,y_test))**0.5"
      ],
      "metadata": {
        "execution": {
          "iopub.status.busy": "2024-06-26T15:10:54.656015Z",
          "iopub.execute_input": "2024-06-26T15:10:54.657057Z",
          "iopub.status.idle": "2024-06-26T15:10:54.667324Z",
          "shell.execute_reply.started": "2024-06-26T15:10:54.656996Z",
          "shell.execute_reply": "2024-06-26T15:10:54.665804Z"
        },
        "trusted": true,
        "id": "i1zvMO8oGkgF"
      },
      "outputs": [],
      "execution_count": null
    },
    {
      "cell_type": "code",
      "source": [
        "r2_score(predict,y_test)"
      ],
      "metadata": {
        "execution": {
          "iopub.status.busy": "2024-06-26T15:10:55.303498Z",
          "iopub.execute_input": "2024-06-26T15:10:55.304126Z",
          "iopub.status.idle": "2024-06-26T15:10:55.314089Z",
          "shell.execute_reply.started": "2024-06-26T15:10:55.304077Z",
          "shell.execute_reply": "2024-06-26T15:10:55.312668Z"
        },
        "trusted": true,
        "id": "TQIfcJYtGkgF"
      },
      "outputs": [],
      "execution_count": null
    },
    {
      "cell_type": "code",
      "source": [
        "from sklearn.linear_model import Ridge, Lasso\n",
        "R=Ridge()\n",
        "L=Lasso()\n"
      ],
      "metadata": {
        "execution": {
          "iopub.status.busy": "2024-06-26T15:10:58.412011Z",
          "iopub.execute_input": "2024-06-26T15:10:58.413147Z",
          "iopub.status.idle": "2024-06-26T15:10:58.418144Z",
          "shell.execute_reply.started": "2024-06-26T15:10:58.413078Z",
          "shell.execute_reply": "2024-06-26T15:10:58.417023Z"
        },
        "trusted": true,
        "id": "yMRBGa5nGkgF"
      },
      "outputs": [],
      "execution_count": null
    },
    {
      "cell_type": "code",
      "source": [
        "model=R.fit(x_train,y_train)"
      ],
      "metadata": {
        "execution": {
          "iopub.status.busy": "2024-06-26T15:11:42.101407Z",
          "iopub.execute_input": "2024-06-26T15:11:42.102973Z",
          "iopub.status.idle": "2024-06-26T15:11:42.111869Z",
          "shell.execute_reply.started": "2024-06-26T15:11:42.102906Z",
          "shell.execute_reply": "2024-06-26T15:11:42.110571Z"
        },
        "trusted": true,
        "id": "2FNRWcNxGkgG"
      },
      "outputs": [],
      "execution_count": null
    },
    {
      "cell_type": "code",
      "source": [
        "predict2=R.predict(x_test)\n",
        "(mean_squared_error(predict2,y_test))**0.5"
      ],
      "metadata": {
        "execution": {
          "iopub.status.busy": "2024-06-26T15:11:42.372797Z",
          "iopub.execute_input": "2024-06-26T15:11:42.373838Z",
          "iopub.status.idle": "2024-06-26T15:11:42.383415Z",
          "shell.execute_reply.started": "2024-06-26T15:11:42.373778Z",
          "shell.execute_reply": "2024-06-26T15:11:42.382119Z"
        },
        "trusted": true,
        "id": "RdDwrfXaGkgG"
      },
      "outputs": [],
      "execution_count": null
    },
    {
      "cell_type": "code",
      "source": [
        "r2_score(predict2,y_test)"
      ],
      "metadata": {
        "execution": {
          "iopub.status.busy": "2024-06-26T15:11:43.61367Z",
          "iopub.execute_input": "2024-06-26T15:11:43.61488Z",
          "iopub.status.idle": "2024-06-26T15:11:43.622233Z",
          "shell.execute_reply.started": "2024-06-26T15:11:43.614822Z",
          "shell.execute_reply": "2024-06-26T15:11:43.621063Z"
        },
        "trusted": true,
        "id": "w6B5baGgGkgG"
      },
      "outputs": [],
      "execution_count": null
    },
    {
      "cell_type": "code",
      "source": [
        "model2=L.fit(x_train,y_train)\n"
      ],
      "metadata": {
        "execution": {
          "iopub.status.busy": "2024-06-26T15:11:54.015902Z",
          "iopub.execute_input": "2024-06-26T15:11:54.016698Z",
          "iopub.status.idle": "2024-06-26T15:11:54.024723Z",
          "shell.execute_reply.started": "2024-06-26T15:11:54.016656Z",
          "shell.execute_reply": "2024-06-26T15:11:54.023375Z"
        },
        "trusted": true,
        "id": "J4MBSdHjGkgG"
      },
      "outputs": [],
      "execution_count": null
    },
    {
      "cell_type": "code",
      "source": [
        "predict3=L.predict(x_test)\n"
      ],
      "metadata": {
        "execution": {
          "iopub.status.busy": "2024-06-26T15:11:54.331626Z",
          "iopub.execute_input": "2024-06-26T15:11:54.332443Z",
          "iopub.status.idle": "2024-06-26T15:11:54.339247Z",
          "shell.execute_reply.started": "2024-06-26T15:11:54.332397Z",
          "shell.execute_reply": "2024-06-26T15:11:54.337903Z"
        },
        "trusted": true,
        "id": "X5jz8L5YGkgG"
      },
      "outputs": [],
      "execution_count": null
    },
    {
      "cell_type": "code",
      "source": [
        "(mean_squared_error(predict3,y_test))**0.5\n"
      ],
      "metadata": {
        "execution": {
          "iopub.status.busy": "2024-06-26T15:11:54.57339Z",
          "iopub.execute_input": "2024-06-26T15:11:54.574607Z",
          "iopub.status.idle": "2024-06-26T15:11:54.582985Z",
          "shell.execute_reply.started": "2024-06-26T15:11:54.57455Z",
          "shell.execute_reply": "2024-06-26T15:11:54.581637Z"
        },
        "trusted": true,
        "id": "k7f_wsdJGkgG"
      },
      "outputs": [],
      "execution_count": null
    },
    {
      "cell_type": "code",
      "source": [
        "r2_score(predict3,y_test)\n"
      ],
      "metadata": {
        "execution": {
          "iopub.status.busy": "2024-06-26T15:11:55.253919Z",
          "iopub.execute_input": "2024-06-26T15:11:55.254965Z",
          "iopub.status.idle": "2024-06-26T15:11:55.262856Z",
          "shell.execute_reply.started": "2024-06-26T15:11:55.25492Z",
          "shell.execute_reply": "2024-06-26T15:11:55.261516Z"
        },
        "trusted": true,
        "id": "NosoVfiTGkgH"
      },
      "outputs": [],
      "execution_count": null
    },
    {
      "cell_type": "code",
      "source": [
        "import pickle\n",
        "\n",
        "pickle.dump(model2,open('model.pkl','wb'))"
      ],
      "metadata": {
        "execution": {
          "iopub.status.busy": "2024-06-26T15:12:06.029867Z",
          "iopub.execute_input": "2024-06-26T15:12:06.030881Z",
          "iopub.status.idle": "2024-06-26T15:12:06.037467Z",
          "shell.execute_reply.started": "2024-06-26T15:12:06.030789Z",
          "shell.execute_reply": "2024-06-26T15:12:06.03567Z"
        },
        "trusted": true,
        "id": "bxU64g2TGkgH"
      },
      "outputs": [],
      "execution_count": null
    },
    {
      "cell_type": "code",
      "source": [],
      "metadata": {
        "id": "hLSqAQ-HGkgH"
      },
      "outputs": [],
      "execution_count": null
    },
    {
      "cell_type": "code",
      "source": [],
      "metadata": {
        "id": "3uuKqpDFGkgH"
      },
      "outputs": [],
      "execution_count": null
    }
  ]
}