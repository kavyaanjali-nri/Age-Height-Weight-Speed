{
  "nbformat": 4,
  "nbformat_minor": 0,
  "metadata": {
    "colab": {
      "provenance": [],
      "authorship_tag": "ABX9TyOmnVPXSypIAfC3glPIErn/",
      "include_colab_link": true
    },
    "kernelspec": {
      "name": "python3",
      "display_name": "Python 3"
    },
    "language_info": {
      "name": "python"
    }
  },
  "cells": [
    {
      "cell_type": "markdown",
      "metadata": {
        "id": "view-in-github",
        "colab_type": "text"
      },
      "source": [
        "<a href=\"https://colab.research.google.com/github/kavyaanjali-nri/Age-Height-Weight-Speed/blob/main/Numpy.ipynb\" target=\"_parent\"><img src=\"https://colab.research.google.com/assets/colab-badge.svg\" alt=\"Open In Colab\"/></a>"
      ]
    },
    {
      "cell_type": "code",
      "execution_count": null,
      "metadata": {
        "id": "O8CyITltudfx"
      },
      "outputs": [],
      "source": [
        "# Numpy-Numeric python\n",
        "# Most powerful packag-library\n",
        "\n",
        "# Numpy - dimensions\n",
        "\n",
        "\n",
        "# A- One dimensions Array\n",
        "#[A,B] [] [ A B ] - TWO Dimensional Array-Row[]colmun\n",
        "\n",
        "\n",
        "# three dimensional\n",
        "\n",
        "#Array-Storing,manipulating,Similar data type\n",
        "\n",
        "#faster then mathematical functions\n",
        "#convinient compared to other package\n",
        "#memory efficiency\n",
        "#supportmulti dimensional array\n",
        "\n",
        "#speed(Numpy operations)>speed(Lists operations)\n",
        "#size(Numpy operations)<size(Lists operations)\n",
        "#memory optimization(Numpy)>memory optimization(Lists operations)"
      ]
    },
    {
      "cell_type": "code",
      "source": [
        "# Install numpy-pip3 install numpy // pip install numpy"
      ],
      "metadata": {
        "id": "TRaBs4mZwvS5"
      },
      "execution_count": null,
      "outputs": []
    },
    {
      "cell_type": "code",
      "source": [
        "import numpy as np"
      ],
      "metadata": {
        "id": "mIvlulTpw4qR"
      },
      "execution_count": null,
      "outputs": []
    },
    {
      "cell_type": "code",
      "source": [
        "#creat a numpy array\n",
        "# 1d array\n",
        "\n",
        "arr1D = np.array([1,2,3,4,5,6,])\n",
        "print(arr1D)"
      ],
      "metadata": {
        "colab": {
          "base_uri": "https://localhost:8080/"
        },
        "id": "J_XAczV5w__i",
        "outputId": "4a11cdf9-c9b3-4d25-b8eb-8e8db503e8ba"
      },
      "execution_count": null,
      "outputs": [
        {
          "output_type": "stream",
          "name": "stdout",
          "text": [
            "[1 2 3 4 5 6]\n"
          ]
        }
      ]
    },
    {
      "cell_type": "code",
      "source": [
        "# Creating 2D Array-matrix\n",
        "arr2D = np.array([\n",
        "    [1,2,3,4,5,6,]\n",
        "])\n",
        "print(arr2D)"
      ],
      "metadata": {
        "colab": {
          "base_uri": "https://localhost:8080/"
        },
        "id": "1EzESyRbxbiV",
        "outputId": "4cc98085-3f16-4bc8-9691-987963d7a78b"
      },
      "execution_count": null,
      "outputs": [
        {
          "output_type": "stream",
          "name": "stdout",
          "text": [
            "[[1 2 3 4 5 6]]\n"
          ]
        }
      ]
    },
    {
      "cell_type": "code",
      "source": [
        "# Creating an identity matrix -I\n",
        "\n",
        "identity = np.eye(4)\n",
        "print(identity)\n",
        "\n",
        "# Identity Matrix\n",
        "#For all A Belong to R MXN\n",
        "#AIJ-"
      ],
      "metadata": {
        "colab": {
          "base_uri": "https://localhost:8080/"
        },
        "id": "SIvFft0D1SHh",
        "outputId": "65df8d5a-98cb-44f5-fd13-1529928c31da"
      },
      "execution_count": null,
      "outputs": [
        {
          "output_type": "stream",
          "name": "stdout",
          "text": [
            "[[1. 0. 0. 0.]\n",
            " [0. 1. 0. 0.]\n",
            " [0. 0. 1. 0.]\n",
            " [0. 0. 0. 1.]]\n"
          ]
        }
      ]
    },
    {
      "cell_type": "code",
      "source": [
        "# Creating arrays with default values as '0'\n",
        "allZeros = np.zeros((2,3)) # Removed extra indent\n",
        "print(allZeros)\n",
        "\n",
        "# Creating matrix with all values of elementes as '1'\n",
        "allOnes = np.ones((2,3)) # Removed extra indent\n",
        "print(allOnes)\n",
        "\n",
        "# Creating matrix with all values of elementes 'constant values - n ~ Fill valuea'\n",
        "allConstant = np.full((2,3),6) # Removed extra indent\n",
        "print(allConstant)"
      ],
      "metadata": {
        "colab": {
          "base_uri": "https://localhost:8080/"
        },
        "id": "xX_HYRynA_SJ",
        "outputId": "00728dfd-50ee-4ad8-b273-123261fdf367"
      },
      "execution_count": null,
      "outputs": [
        {
          "output_type": "stream",
          "name": "stdout",
          "text": [
            "[[0. 0. 0.]\n",
            " [0. 0. 0.]]\n",
            "[[1. 1. 1.]\n",
            " [1. 1. 1.]]\n",
            "[[6 6 6]\n",
            " [6 6 6]]\n"
          ]
        }
      ]
    },
    {
      "cell_type": "code",
      "source": [
        "# creating random matrices\n",
        "\n",
        "# between 0 and 1\n",
        "rand1 = np.random.rand(2,3)\n",
        "print(rand1)\n",
        "\n",
        "#between a and b\n",
        "rand2 = np. random.randint(10,20,(3,3))\n",
        "print(rand2)"
      ],
      "metadata": {
        "colab": {
          "base_uri": "https://localhost:8080/"
        },
        "id": "4IIiJmfC4XjT",
        "outputId": "49821a1c-2605-4838-db77-5c46a1453645"
      },
      "execution_count": null,
      "outputs": [
        {
          "output_type": "stream",
          "name": "stdout",
          "text": [
            "[[0.30288369 0.47564225 0.17062343]\n",
            " [0.40963341 0.38475823 0.26990959]]\n",
            "[[18 10 17]\n",
            " [15 15 18]\n",
            " [19 15 11]]\n"
          ]
        }
      ]
    },
    {
      "cell_type": "code",
      "source": [
        "# Array properties\n",
        "\n",
        "arr = np.array([[1,2,3],[2,3,4]])\n",
        "print(arr)\n",
        "\n",
        "# Shape or array\n",
        "print(f'\\nThe shape of the array is {arr.shape}')\n",
        "\n",
        "# Size of array\n",
        "print(f'The size of the array is {arr.size}')\n",
        "# Datatype of array\n",
        "\n",
        "print(f'The data type of the array is {arr.dtype}')\n",
        "\n",
        "# Dimensions of array\n",
        "print(f'The dimensions of the array is {arr.ndim}')"
      ],
      "metadata": {
        "colab": {
          "base_uri": "https://localhost:8080/"
        },
        "id": "6y1OJ8nX0oUk",
        "outputId": "a906dec6-4420-4882-a0c3-8f16aea008f1"
      },
      "execution_count": null,
      "outputs": [
        {
          "output_type": "stream",
          "name": "stdout",
          "text": [
            "[[1 2 3]\n",
            " [2 3 4]]\n",
            "\n",
            "The shape of the array is (2, 3)\n",
            "The size of the array is 6\n",
            "The data type of the array is int64\n",
            "The dimensions of the array is 2\n"
          ]
        }
      ]
    },
    {
      "cell_type": "code",
      "source": [
        "# Indexing and Slicing\n",
        "\n",
        "# Access the element in 1D Array\n",
        "\n",
        "arr = np.array([1,2,3])\n",
        "print(arr)\n",
        "#print(arr[3]) # This line was causing the error.  Index 3 is out of bounds.\n",
        "print(arr[2]) # Accessing the last element using index 2\n",
        "\n",
        "#Slicing the element\n",
        "print(arr[0:3])\n",
        "\n",
        "# Access the element in 2D ARRAY\n",
        "arr2 = np.array([[1,2,3],[2,3,4]])\n",
        "print(arr2)\n",
        "print(arr2[1,1])\n",
        "print(arr2[0,:1])# first row with all columns\n",
        "print"
      ],
      "metadata": {
        "colab": {
          "base_uri": "https://localhost:8080/"
        },
        "id": "xAM0W6gIBV_G",
        "outputId": "10eaadd9-3442-49b6-f560-afd7203e98df"
      },
      "execution_count": null,
      "outputs": [
        {
          "output_type": "stream",
          "name": "stdout",
          "text": [
            "[1 2 3]\n",
            "3\n",
            "[1 2 3]\n",
            "[[1 2 3]\n",
            " [2 3 4]]\n",
            "3\n",
            "[1]\n"
          ]
        },
        {
          "output_type": "execute_result",
          "data": {
            "text/plain": [
              "<function print(*args, sep=' ', end='\\n', file=None, flush=False)>"
            ]
          },
          "metadata": {},
          "execution_count": 42
        }
      ]
    },
    {
      "cell_type": "code",
      "source": [
        "# l1 = []\n",
        "# [l1.append(_)for _ in range(30)]\n",
        "\n",
        "l1 = np.arange(30,-30,-3)\n",
        "print(l1)"
      ],
      "metadata": {
        "colab": {
          "base_uri": "https://localhost:8080/"
        },
        "id": "YwN9wFhBBdF8",
        "outputId": "e4d1db97-145b-409a-a144-696e04639805"
      },
      "execution_count": null,
      "outputs": [
        {
          "output_type": "stream",
          "name": "stdout",
          "text": [
            "[ 30  27  24  21  18  15  12   9   6   3   0  -3  -6  -9 -12 -15 -18 -21\n",
            " -24 -27]\n"
          ]
        }
      ]
    },
    {
      "cell_type": "code",
      "source": [
        "# Mathematical\n",
        "a = np.array([1,2,3])\n",
        "b = np.array([3,4,6])\n",
        "\n",
        "print(f'The sum of a and b is {a+b}')\n",
        "print(f'The diff of a and b is {a-b}')\n",
        "print(f'The product of a and b is {a*b} ')\n",
        "print(f'The division of a and b is {a/b}')"
      ],
      "metadata": {
        "colab": {
          "base_uri": "https://localhost:8080/"
        },
        "id": "xpTYr0zjCCiK",
        "outputId": "dce5f501-a066-4245-ad83-c217592579d1"
      },
      "execution_count": null,
      "outputs": [
        {
          "output_type": "stream",
          "name": "stdout",
          "text": [
            "The sum of a and b is [4 6 9]\n",
            "The diff of a and b is [-2 -2 -3]\n",
            "The product of a and b is [ 3  8 18] \n",
            "The division of a and b is [0.33333333 0.5        0.5       ]\n"
          ]
        }
      ]
    },
    {
      "cell_type": "code",
      "source": [
        "# matrix multiplication\n",
        "b1 = np.array([[1,2,3],[2,3,4]])\n",
        "b2 = np.array([[6,7],[8,9],[6,3]])\n",
        "\n",
        "# Dot product --- product = AB -- A m x n -- B m x n\n",
        "c = np.dot(b1,b2)\n",
        "print(b1)"
      ],
      "metadata": {
        "colab": {
          "base_uri": "https://localhost:8080/"
        },
        "id": "iU20-irJDX2Z",
        "outputId": "f7a17637-6d86-402b-eebe-e7565cf65b81"
      },
      "execution_count": null,
      "outputs": [
        {
          "output_type": "stream",
          "name": "stdout",
          "text": [
            "[[1 2 3]\n",
            " [2 3 4]]\n"
          ]
        }
      ]
    },
    {
      "cell_type": "code",
      "source": [
        "print(b2)"
      ],
      "metadata": {
        "colab": {
          "base_uri": "https://localhost:8080/"
        },
        "id": "VvZ41n_qFaZL",
        "outputId": "63eb4b2e-1557-4393-aedf-82c1ac2fd569"
      },
      "execution_count": null,
      "outputs": [
        {
          "output_type": "stream",
          "name": "stdout",
          "text": [
            "[[6 7]\n",
            " [8 9]\n",
            " [6 3]]\n"
          ]
        }
      ]
    },
    {
      "cell_type": "code",
      "source": [
        "[\n",
        "\n",
        "]"
      ],
      "metadata": {
        "id": "KY2M3x1kFeRK"
      },
      "execution_count": null,
      "outputs": []
    }
  ]
}